{
 "cells": [
  {
   "cell_type": "code",
   "execution_count": 295,
   "metadata": {},
   "outputs": [],
   "source": [
    "import matplotlib\n",
    "import matplotlib.pyplot as plt\n",
    "\n",
    "%matplotlib inline"
   ]
  },
  {
   "cell_type": "code",
   "execution_count": 349,
   "metadata": {},
   "outputs": [],
   "source": [
    "import os\n",
    "import zipfile\n",
    "import urllib.request\n",
    "import pandas as pd\n",
    "import numpy as np\n",
    "from keras.layers import *\n",
    "from keras.callbacks import *\n",
    "from keras.models import Model\n",
    "from keras.utils import to_categorical"
   ]
  },
  {
   "cell_type": "code",
   "execution_count": 186,
   "metadata": {},
   "outputs": [],
   "source": [
    "from numpy import mean\n",
    "from numpy import std\n",
    "from keras.models import Sequential\n",
    "from keras.layers import Dense\n",
    "from keras.layers import Flatten\n",
    "from keras.layers import Dropout\n",
    "from keras.layers import LSTM\n",
    "from keras.utils import to_categorical\n",
    "from matplotlib import pyplot"
   ]
  },
  {
   "cell_type": "code",
   "execution_count": 267,
   "metadata": {},
   "outputs": [],
   "source": [
    "# Useful constants\n",
    "url_dataset = 'https://archive.ics.uci.edu/ml/machine-learning-databases/00240/UCI%20HAR%20Dataset.zip'\n",
    "\n",
    "file_name = 'UCI HAR Dataset.zip'\n",
    "\n",
    "data_dir = 'UCI HAR Dataset'\n",
    "\n",
    "classes = [\n",
    "    \"WALKING\", \n",
    "    \"WALKING_UPSTAIRS\", \n",
    "    \"WALKING_DOWNSTAIRS\", \n",
    "    \"SITTING\", \n",
    "    \"STANDING\", \n",
    "    \"LAYING\"\n",
    "]\n",
    "\n",
    "nb_classes = len(classes)\n",
    "\n",
    "validation_ratio = 0.3"
   ]
  },
  {
   "cell_type": "markdown",
   "metadata": {},
   "source": [
    "# Overview:\n",
    "1. Load Data\n",
    "2. LSTM\n",
    "3. CNN\n",
    "4. Comparison (runtime, accuracy, etc.)"
   ]
  },
  {
   "cell_type": "markdown",
   "metadata": {},
   "source": [
    "## 1. Load Data"
   ]
  },
  {
   "cell_type": "code",
   "execution_count": 36,
   "metadata": {},
   "outputs": [
    {
     "name": "stdout",
     "output_type": "stream",
     "text": [
      "Download in progress...\n",
      "Finished downloading\n",
      "Finished extracting zip\n"
     ]
    }
   ],
   "source": [
    "#Download and Extract zip\n",
    "if (not os.path.exists(file_name)):\n",
    "    # Download\n",
    "    print('Download in progress...')\n",
    "    urllib.request.urlretrieve(url_dataset, file_name)\n",
    "    print('Finished downloading')\n",
    "\n",
    "    # Extract\n",
    "    with zipfile.ZipFile(file_name,\"r\") as zip_ref:\n",
    "        zip_ref.extractall()\n",
    "    print('Finished extracting zip')\n",
    "else:\n",
    "    print('Zip file exists')"
   ]
  },
  {
   "cell_type": "code",
   "execution_count": 439,
   "metadata": {},
   "outputs": [],
   "source": [
    "def grab_filenames(partition='train'):\n",
    "    files = os.listdir(os.path.join(data_dir,partition,'Inertial Signals'))\n",
    "    #only keep body_gyro and total_acc files\n",
    "    keep_files = ['body_gyro', 'total_acc']\n",
    "    files = [file for file in files if any(keep_file in file for keep_file in keep_files)]\n",
    "    return files"
   ]
  },
  {
   "cell_type": "code",
   "execution_count": 339,
   "metadata": {},
   "outputs": [],
   "source": [
    "def load_X_files(partition, files):\n",
    "    data = []\n",
    "    for file in files:\n",
    "        txt = pd.read_csv(os.path.join(data_dir,partition,'Inertial Signals',file),header=None,sep='\\s+',dtype=np.float64)\n",
    "        data.append(txt.values)\n",
    "    data = np.dstack(data) \n",
    "    return data"
   ]
  },
  {
   "cell_type": "code",
   "execution_count": 340,
   "metadata": {},
   "outputs": [],
   "source": [
    "def load_Y_files(partition):\n",
    "    data = pd.read_csv(os.path.join(data_dir,partition,'y_'+partition+'.txt'),header=None)\n",
    "    return data.values"
   ]
  },
  {
   "cell_type": "code",
   "execution_count": 341,
   "metadata": {},
   "outputs": [],
   "source": [
    "def load_files(partition):\n",
    "    files = grab_filenames(partition)\n",
    "    X = load_X_files(partition, files)\n",
    "    Y = load_Y_files(partition)\n",
    "    print('Reading X_{} with shape: {}'.format(partition,X.shape))\n",
    "    print('Reading Y_{} with shape: {}'.format(partition,Y.shape))\n",
    "    return X,Y"
   ]
  },
  {
   "cell_type": "code",
   "execution_count": 499,
   "metadata": {},
   "outputs": [
    {
     "name": "stdout",
     "output_type": "stream",
     "text": [
      "Reading X_train with shape: (7352, 128, 6)\n",
      "Reading Y_train with shape: (7352, 1)\n",
      "Reading X_test with shape: (2947, 128, 6)\n",
      "Reading Y_test with shape: (2947, 1)\n"
     ]
    }
   ],
   "source": [
    "X_train, Y_train = load_files('train')\n",
    "X_test, Y_test_cat = load_files('test')"
   ]
  },
  {
   "cell_type": "code",
   "execution_count": 500,
   "metadata": {},
   "outputs": [],
   "source": [
    "#recode: class numbers must be 0-5 (previously 1-6)\n",
    "Y_train = to_categorical(Y_train-1) \n",
    "Y_test = to_categorical(Y_test_cat-1)"
   ]
  },
  {
   "cell_type": "markdown",
   "metadata": {},
   "source": [
    "## 2. LSTM"
   ]
  },
  {
   "cell_type": "code",
   "execution_count": 448,
   "metadata": {},
   "outputs": [],
   "source": [
    "def custom_lstm(lstm_units):\n",
    "    input_smartphone = Input(shape=(X_train.shape[1],X_train.shape[2]), name='input_smartphone')\n",
    "        \n",
    "    x = LSTM(lstm_units, return_sequences=True)(input_smartphone)\n",
    "    x = LSTM(lstm_units, return_sequences=False)(x)\n",
    "        \n",
    "    output = Dense(nb_classes, activation='softmax', name='output')(x)\n",
    "\n",
    "    model = Model(inputs=input_smartphone,outputs=output) \n",
    "    return model"
   ]
  },
  {
   "cell_type": "code",
   "execution_count": 449,
   "metadata": {},
   "outputs": [],
   "source": [
    "def train_model(model, X, Y, batch_size=64, epochs=100, callbacks=callbacks):\n",
    "    model.compile(loss='categorical_crossentropy', optimizer='adam', metrics=['accuracy'])\n",
    "    results = model.fit(X,Y,\n",
    "                        validation_split = validation_ratio,\n",
    "                        batch_size = batch_size,\n",
    "                        epochs = epochs,\n",
    "                        verbose = 1,\n",
    "                        callbacks = callbacks)\n",
    "    results = results.history\n",
    "    return results"
   ]
  },
  {
   "cell_type": "code",
   "execution_count": 450,
   "metadata": {},
   "outputs": [],
   "source": [
    "#callbacks\n",
    "reduce_lr = ReduceLROnPlateau(patience=5, min_lr=0.00001)\n",
    "stop_early = EarlyStopping(patience=10)\n",
    "model_ckpt = ModelCheckpoint(filepath='weights_lstm.hdf5', save_best_only=True)\n",
    "callbacks = [reduce_lr, stop_early, model_ckpt]"
   ]
  },
  {
   "cell_type": "code",
   "execution_count": 451,
   "metadata": {
    "scrolled": true
   },
   "outputs": [
    {
     "name": "stdout",
     "output_type": "stream",
     "text": [
      "Train on 5146 samples, validate on 2206 samples\n",
      "Epoch 1/100\n",
      "5146/5146 [==============================] - 321s 62ms/step - loss: 1.0877 - acc: 0.5346 - val_loss: 0.9787 - val_acc: 0.5739\n",
      "Epoch 2/100\n",
      "5146/5146 [==============================] - 481s 94ms/step - loss: 0.7278 - acc: 0.6867 - val_loss: 0.7257 - val_acc: 0.7221\n",
      "Epoch 3/100\n",
      "5146/5146 [==============================] - 321s 62ms/step - loss: 0.5845 - acc: 0.7620 - val_loss: 0.7136 - val_acc: 0.7584\n",
      "Epoch 4/100\n",
      "5146/5146 [==============================] - 342s 66ms/step - loss: 0.5074 - acc: 0.8004 - val_loss: 0.6556 - val_acc: 0.8015\n",
      "Epoch 5/100\n",
      "5146/5146 [==============================] - 258s 50ms/step - loss: 0.4287 - acc: 0.8372 - val_loss: 0.5223 - val_acc: 0.8563\n",
      "Epoch 6/100\n",
      "5146/5146 [==============================] - 85s 17ms/step - loss: 0.3274 - acc: 0.8760 - val_loss: 0.4385 - val_acc: 0.8849\n",
      "Epoch 7/100\n",
      "5146/5146 [==============================] - 83s 16ms/step - loss: 0.3129 - acc: 0.8844 - val_loss: 0.3970 - val_acc: 0.8817\n",
      "Epoch 8/100\n",
      "5146/5146 [==============================] - 87s 17ms/step - loss: 0.2369 - acc: 0.9102 - val_loss: 0.5315 - val_acc: 0.8364\n",
      "Epoch 9/100\n",
      "5146/5146 [==============================] - 167s 32ms/step - loss: 0.2075 - acc: 0.9236 - val_loss: 0.4536 - val_acc: 0.8549\n",
      "Epoch 10/100\n",
      "5146/5146 [==============================] - 160s 31ms/step - loss: 0.2125 - acc: 0.9143 - val_loss: 0.4385 - val_acc: 0.8858\n",
      "Epoch 11/100\n",
      "5146/5146 [==============================] - 80s 16ms/step - loss: 0.1868 - acc: 0.9264 - val_loss: 0.3947 - val_acc: 0.8971\n",
      "Epoch 12/100\n",
      "5146/5146 [==============================] - 79s 15ms/step - loss: 0.1386 - acc: 0.9431 - val_loss: 0.4294 - val_acc: 0.8808\n",
      "Epoch 13/100\n",
      "5146/5146 [==============================] - 87s 17ms/step - loss: 0.1266 - acc: 0.9466 - val_loss: 0.4147 - val_acc: 0.9102\n",
      "Epoch 14/100\n",
      "5146/5146 [==============================] - 84s 16ms/step - loss: 0.1216 - acc: 0.9477 - val_loss: 0.4509 - val_acc: 0.8903\n",
      "Epoch 15/100\n",
      "5146/5146 [==============================] - 150s 29ms/step - loss: 0.1513 - acc: 0.9425 - val_loss: 0.3713 - val_acc: 0.9098\n",
      "Epoch 16/100\n",
      "5146/5146 [==============================] - 101s 20ms/step - loss: 0.1313 - acc: 0.9473 - val_loss: 0.3740 - val_acc: 0.8994\n",
      "Epoch 17/100\n",
      "5146/5146 [==============================] - 95s 19ms/step - loss: 0.1081 - acc: 0.9524 - val_loss: 0.4300 - val_acc: 0.8980\n",
      "Epoch 18/100\n",
      "5146/5146 [==============================] - 97s 19ms/step - loss: 0.1662 - acc: 0.9322 - val_loss: 0.3710 - val_acc: 0.9012\n",
      "Epoch 19/100\n",
      "5146/5146 [==============================] - 99s 19ms/step - loss: 0.1296 - acc: 0.9454 - val_loss: 0.3788 - val_acc: 0.9157\n",
      "Epoch 20/100\n",
      "5146/5146 [==============================] - 106s 21ms/step - loss: 0.1028 - acc: 0.9557 - val_loss: 0.4041 - val_acc: 0.9161\n",
      "Epoch 21/100\n",
      "5146/5146 [==============================] - 92s 18ms/step - loss: 0.0957 - acc: 0.9572 - val_loss: 0.4276 - val_acc: 0.9112\n",
      "Epoch 22/100\n",
      "5146/5146 [==============================] - 85s 17ms/step - loss: 0.0996 - acc: 0.9541 - val_loss: 0.4939 - val_acc: 0.9125\n",
      "Epoch 23/100\n",
      "5146/5146 [==============================] - 100s 20ms/step - loss: 0.0993 - acc: 0.9559 - val_loss: 0.4962 - val_acc: 0.8989\n",
      "Epoch 24/100\n",
      "5146/5146 [==============================] - 131s 25ms/step - loss: 0.0919 - acc: 0.9588 - val_loss: 0.5187 - val_acc: 0.9071\n",
      "Epoch 25/100\n",
      "5146/5146 [==============================] - 109s 21ms/step - loss: 0.0889 - acc: 0.9586 - val_loss: 0.5114 - val_acc: 0.9089\n",
      "Epoch 26/100\n",
      "5146/5146 [==============================] - 115s 22ms/step - loss: 0.0865 - acc: 0.9563 - val_loss: 0.5174 - val_acc: 0.9084\n",
      "Epoch 27/100\n",
      "5146/5146 [==============================] - 92s 18ms/step - loss: 0.0844 - acc: 0.9557 - val_loss: 0.5217 - val_acc: 0.9075\n",
      "Epoch 28/100\n",
      "5146/5146 [==============================] - 102s 20ms/step - loss: 0.0834 - acc: 0.9567 - val_loss: 0.5345 - val_acc: 0.9062\n"
     ]
    }
   ],
   "source": [
    "model = custom_lstm(lstm_units=100)\n",
    "results = train_model(model,X_train,Y_train,batch_size=32,callbacks=callbacks)"
   ]
  },
  {
   "cell_type": "code",
   "execution_count": 417,
   "metadata": {},
   "outputs": [],
   "source": [
    "#load best model\n",
    "model = custom_lstm(lstm_units=100)\n",
    "model.load_weights('weights_lstm.hdf5')"
   ]
  },
  {
   "cell_type": "code",
   "execution_count": 418,
   "metadata": {},
   "outputs": [
    {
     "name": "stdout",
     "output_type": "stream",
     "text": [
      "_________________________________________________________________\n",
      "Layer (type)                 Output Shape              Param #   \n",
      "=================================================================\n",
      "input_smartphone (InputLayer (None, 128, 6)            0         \n",
      "_________________________________________________________________\n",
      "lstm_74 (LSTM)               (None, 128, 100)          42800     \n",
      "_________________________________________________________________\n",
      "lstm_75 (LSTM)               (None, 100)               80400     \n",
      "_________________________________________________________________\n",
      "output (Dense)               (None, 6)                 606       \n",
      "=================================================================\n",
      "Total params: 123,806\n",
      "Trainable params: 123,806\n",
      "Non-trainable params: 0\n",
      "_________________________________________________________________\n"
     ]
    }
   ],
   "source": [
    "model.summary()"
   ]
  },
  {
   "cell_type": "markdown",
   "metadata": {},
   "source": [
    "## 3. 1D-CNN"
   ]
  },
  {
   "cell_type": "code",
   "execution_count": 462,
   "metadata": {},
   "outputs": [],
   "source": [
    "def custom_1d_cnn(conv_units):\n",
    "    input_smartphone = Input(shape=(X_train.shape[1], X_train.shape[2] ), name='input_smartphone')\n",
    "        \n",
    "    x = Conv1D(conv_units, kernel_size=3, activation='relu')(input_smartphone)\n",
    "    x = MaxPool1D(pool_size=2)(x)\n",
    "    x = Conv1D(conv_units, kernel_size=3, activation='relu')(x)\n",
    "    x = GlobalAveragePooling1D()(x)\n",
    "    x = Dropout(0.5)(x)\n",
    "    \n",
    "    output = Dense(nb_classes, activation='softmax', name='output')(x)\n",
    "\n",
    "    model = Model(inputs=input_smartphone,outputs=output) \n",
    "    return model"
   ]
  },
  {
   "cell_type": "code",
   "execution_count": 464,
   "metadata": {},
   "outputs": [],
   "source": [
    "#callbacks\n",
    "reduce_lr = ReduceLROnPlateau(patience=5, min_lr=0.00001)\n",
    "stop_early = EarlyStopping(patience=10)\n",
    "model_ckpt = ModelCheckpoint(filepath='weights_1dcnn.hdf5', save_best_only=True)\n",
    "callbacks = [reduce_lr, stop_early, model_ckpt]"
   ]
  },
  {
   "cell_type": "code",
   "execution_count": 468,
   "metadata": {
    "scrolled": true
   },
   "outputs": [
    {
     "name": "stdout",
     "output_type": "stream",
     "text": [
      "Train on 5146 samples, validate on 2206 samples\n",
      "Epoch 1/100\n",
      "5146/5146 [==============================] - 8s 2ms/step - loss: 1.0631 - acc: 0.5754 - val_loss: 0.6991 - val_acc: 0.7539\n",
      "Epoch 2/100\n",
      "5146/5146 [==============================] - 2s 465us/step - loss: 0.6149 - acc: 0.7359 - val_loss: 0.5643 - val_acc: 0.8500\n",
      "Epoch 3/100\n",
      "5146/5146 [==============================] - 3s 490us/step - loss: 0.5042 - acc: 0.7886 - val_loss: 0.5323 - val_acc: 0.8187\n",
      "Epoch 4/100\n",
      "5146/5146 [==============================] - 3s 589us/step - loss: 0.4413 - acc: 0.8230 - val_loss: 0.5199 - val_acc: 0.8282\n",
      "Epoch 5/100\n",
      "5146/5146 [==============================] - 4s 835us/step - loss: 0.3971 - acc: 0.8405 - val_loss: 0.5049 - val_acc: 0.8400\n",
      "Epoch 6/100\n",
      "5146/5146 [==============================] - 4s 702us/step - loss: 0.3709 - acc: 0.8585 - val_loss: 0.4805 - val_acc: 0.8626\n",
      "Epoch 7/100\n",
      "5146/5146 [==============================] - 3s 523us/step - loss: 0.3417 - acc: 0.8657 - val_loss: 0.4473 - val_acc: 0.8876\n",
      "Epoch 8/100\n",
      "5146/5146 [==============================] - 3s 607us/step - loss: 0.3168 - acc: 0.8780 - val_loss: 0.4404 - val_acc: 0.8966\n",
      "Epoch 9/100\n",
      "5146/5146 [==============================] - 4s 838us/step - loss: 0.2937 - acc: 0.8822 - val_loss: 0.4775 - val_acc: 0.8744\n",
      "Epoch 10/100\n",
      "5146/5146 [==============================] - 7s 1ms/step - loss: 0.2824 - acc: 0.8855 - val_loss: 0.4313 - val_acc: 0.8935\n",
      "Epoch 11/100\n",
      "5146/5146 [==============================] - 5s 1ms/step - loss: 0.2601 - acc: 0.9028 - val_loss: 0.4429 - val_acc: 0.8885\n",
      "Epoch 12/100\n",
      "5146/5146 [==============================] - 4s 785us/step - loss: 0.2482 - acc: 0.9021 - val_loss: 0.4732 - val_acc: 0.8708\n",
      "Epoch 13/100\n",
      "5146/5146 [==============================] - 5s 975us/step - loss: 0.2377 - acc: 0.9071 - val_loss: 0.4480 - val_acc: 0.8957\n",
      "Epoch 14/100\n",
      "5146/5146 [==============================] - 4s 766us/step - loss: 0.2259 - acc: 0.9127 - val_loss: 0.4684 - val_acc: 0.8821\n",
      "Epoch 15/100\n",
      "5146/5146 [==============================] - 5s 884us/step - loss: 0.2123 - acc: 0.9147 - val_loss: 0.4465 - val_acc: 0.8976\n",
      "Epoch 16/100\n",
      "5146/5146 [==============================] - 5s 1ms/step - loss: 0.2022 - acc: 0.9190 - val_loss: 0.4729 - val_acc: 0.8740\n",
      "Epoch 17/100\n",
      "5146/5146 [==============================] - 4s 828us/step - loss: 0.1987 - acc: 0.9244 - val_loss: 0.4593 - val_acc: 0.8835\n",
      "Epoch 18/100\n",
      "5146/5146 [==============================] - 4s 806us/step - loss: 0.1947 - acc: 0.9217 - val_loss: 0.4511 - val_acc: 0.8898\n",
      "Epoch 19/100\n",
      "5146/5146 [==============================] - 4s 837us/step - loss: 0.1946 - acc: 0.9242 - val_loss: 0.4605 - val_acc: 0.8853\n",
      "Epoch 20/100\n",
      "5146/5146 [==============================] - 4s 830us/step - loss: 0.1947 - acc: 0.9244 - val_loss: 0.4514 - val_acc: 0.8903\n"
     ]
    }
   ],
   "source": [
    "model = custom_1d_cnn(conv_units=64)\n",
    "results = train_model(model,X_train,Y_train,batch_size=32,callbacks=callbacks)"
   ]
  },
  {
   "cell_type": "code",
   "execution_count": 470,
   "metadata": {},
   "outputs": [],
   "source": [
    "#load best model\n",
    "model = custom_1d_cnn(conv_units=64)\n",
    "model.load_weights('weights_1dcnn.hdf5')"
   ]
  },
  {
   "cell_type": "code",
   "execution_count": 471,
   "metadata": {},
   "outputs": [
    {
     "name": "stdout",
     "output_type": "stream",
     "text": [
      "_________________________________________________________________\n",
      "Layer (type)                 Output Shape              Param #   \n",
      "=================================================================\n",
      "input_smartphone (InputLayer (None, 128, 6)            0         \n",
      "_________________________________________________________________\n",
      "conv1d_36 (Conv1D)           (None, 126, 64)           1216      \n",
      "_________________________________________________________________\n",
      "max_pooling1d_17 (MaxPooling (None, 63, 64)            0         \n",
      "_________________________________________________________________\n",
      "conv1d_37 (Conv1D)           (None, 61, 64)            12352     \n",
      "_________________________________________________________________\n",
      "global_average_pooling1d_14  (None, 64)                0         \n",
      "_________________________________________________________________\n",
      "dropout_28 (Dropout)         (None, 64)                0         \n",
      "_________________________________________________________________\n",
      "output (Dense)               (None, 6)                 390       \n",
      "=================================================================\n",
      "Total params: 13,958\n",
      "Trainable params: 13,958\n",
      "Non-trainable params: 0\n",
      "_________________________________________________________________\n"
     ]
    }
   ],
   "source": [
    "model.summary()"
   ]
  },
  {
   "cell_type": "markdown",
   "metadata": {},
   "source": [
    "## 4. Comparison: LSTM vs. 1D-CNN"
   ]
  },
  {
   "cell_type": "code",
   "execution_count": 494,
   "metadata": {},
   "outputs": [],
   "source": [
    "from sklearn.metrics import confusion_matrix\n",
    "import itertools"
   ]
  },
  {
   "cell_type": "code",
   "execution_count": 492,
   "metadata": {},
   "outputs": [],
   "source": [
    "def plot_confusion_matrix(cm, classes,\n",
    "                          normalize=False,\n",
    "                          title='Confusion matrix',\n",
    "                          cmap=plt.cm.Blues):\n",
    "    \"\"\"\n",
    "    This function prints and plots the confusion matrix.\n",
    "    Normalization can be applied by setting `normalize=True`.\n",
    "    \"\"\"\n",
    "    if normalize:\n",
    "        cm = cm.astype('float') / cm.sum(axis=1)[:, np.newaxis]\n",
    "        print(\"Normalized confusion matrix\")\n",
    "    else:\n",
    "        print('Confusion matrix, without normalization')\n",
    "\n",
    "    print(cm)\n",
    "\n",
    "    plt.imshow(cm, interpolation='nearest', cmap=cmap)\n",
    "    plt.title(title)\n",
    "    plt.colorbar()\n",
    "    tick_marks = np.arange(len(classes))\n",
    "    plt.xticks(tick_marks, classes, rotation=45)\n",
    "    plt.yticks(tick_marks, classes)\n",
    "\n",
    "    fmt = '.2f' if normalize else 'd'\n",
    "    thresh = cm.max() / 2.\n",
    "    for i, j in itertools.product(range(cm.shape[0]), range(cm.shape[1])):\n",
    "        plt.text(j, i, format(cm[i, j], fmt),\n",
    "                 horizontalalignment=\"center\",\n",
    "                 color=\"white\" if cm[i, j] > thresh else \"black\")\n",
    "\n",
    "    plt.ylabel('True label')\n",
    "    plt.xlabel('Predicted label')\n",
    "    plt.tight_layout()"
   ]
  },
  {
   "cell_type": "code",
   "execution_count": 472,
   "metadata": {},
   "outputs": [],
   "source": [
    "#load best models\n",
    "model_lstm = custom_lstm(lstm_units=100)\n",
    "model_lstm.load_weights('weights_lstm.hdf5')\n",
    "\n",
    "model_cnn = custom_1d_cnn(conv_units=64)\n",
    "model_cnn.load_weights('weights_1dcnn.hdf5')"
   ]
  },
  {
   "cell_type": "code",
   "execution_count": 473,
   "metadata": {},
   "outputs": [],
   "source": [
    "preds_lstm = model_lstm.predict(X_test)\n",
    "preds_cnn = model_cnn.predict(X_test)"
   ]
  },
  {
   "cell_type": "code",
   "execution_count": 501,
   "metadata": {},
   "outputs": [],
   "source": [
    "#get back classes from labels (convert from 0 start index back to 1)\n",
    "preds_class_lstm = [np.argmax(item)+1 for item in preds_lstm]\n",
    "preds_class_cnn = [np.argmax(item)+1 for item in preds_cnn]"
   ]
  },
  {
   "cell_type": "code",
   "execution_count": 508,
   "metadata": {},
   "outputs": [],
   "source": [
    "conf_lstm = confusion_matrix(y_true=Y_test_cat, y_pred=preds_class_lstm)"
   ]
  },
  {
   "cell_type": "code",
   "execution_count": 503,
   "metadata": {},
   "outputs": [
    {
     "name": "stdout",
     "output_type": "stream",
     "text": [
      "Confusion matrix, without normalization\n",
      "[[  0   0   0   0   0   0   0]\n",
      " [404   8  79   5   0   0   0]\n",
      " [ 13 423  35   0   0   0   0]\n",
      " [  1   2 408   8   1   0   0]\n",
      " [  0   1   0 418  51  21   0]\n",
      " [  1   3   4 133 391   0   0]\n",
      " [  0  40   0   0   0 497   0]]\n"
     ]
    },
    {
     "data": {
      "image/png": "[encoded data removed]",
      "text/plain": [
       "<Figure size 432x288 with 2 Axes>"
      ]
     },
     "metadata": {
      "needs_background": "light"
     },
     "output_type": "display_data"
    }
   ],
   "source": [
    "plot_confusion_matrix(conf_lstm, classes=classes)"
   ]
  }
 ],
 "metadata": {
  "kernelspec": {
   "display_name": "Python (nn_cv)",
   "language": "python",
   "name": "nn_cv"
  },
  "language_info": {
   "codemirror_mode": {
    "name": "ipython",
    "version": 3
   },
   "file_extension": ".py",
   "mimetype": "text/x-python",
   "name": "python",
   "nbconvert_exporter": "python",
   "pygments_lexer": "ipython3",
   "version": "3.6.7"
  }
 },
 "nbformat": 4,
 "nbformat_minor": 2
}
